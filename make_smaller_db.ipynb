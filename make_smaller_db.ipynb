{
 "cells": [
  {
   "cell_type": "code",
   "execution_count": 3,
   "metadata": {},
   "outputs": [],
   "source": [
    "import databaseconfig as cfg\n",
    "import pandas as pd\n",
    "import matplotlib.pyplot as plt\n",
    "\n",
    "from sqlalchemy import create_engine\n",
    "address='postgresql://postgres:'+cfg.postgres['pw']+'@'+cfg.postgres['host']+':5432/Pewlett_Hackard'\n",
    "engine = create_engine(address)\n",
    "conn = engine.connect()"
   ]
  },
  {
   "cell_type": "code",
   "execution_count": 4,
   "metadata": {},
   "outputs": [
    {
     "name": "stdout",
     "output_type": "stream",
     "text": [
      "1890\n"
     ]
    }
   ],
   "source": [
    "# Gather employees starting after start of 2002\n",
    "employee_df = pd.read_sql(\"\"\"\n",
    "SELECT * FROM employees  e INNER JOIN (SELECT emp_no junk FROM dept_emp WHERE from_date>='2002-01-01') de\n",
    "ON e.emp_no = de.junk;\"\"\", conn)\n",
    "employee_df = employee_df[['emp_no','birthdate','first_name','last_name','gender','hire_date']]\n",
    "\n",
    "# Gather all department manager and add to the employee dataframe\n",
    "employee_mgr_df = pd.read_sql(\"\"\"\n",
    "SELECT * FROM employees AS e INNER JOIN (SELECT emp_no junk FROM dept_manager WHERE from_date<'2001-01-01') dm\n",
    "ON e.emp_no = dm.junk;\"\"\", conn)\n",
    "employee_mgr_df = employee_mgr_df[['emp_no','birthdate','first_name','last_name','gender','hire_date']]\n",
    "\n",
    "employee_df = employee_df.append(employee_mgr_df, ignore_index=True)\n",
    "# Write employee dataframe to csv\n",
    "employee_df.to_csv('app/data/employees_sm.csv', index=False)\n",
    "total_rows = employee_df.shape[0]\n",
    "print(total_rows)"
   ]
  },
  {
   "cell_type": "code",
   "execution_count": 5,
   "metadata": {},
   "outputs": [
    {
     "name": "stdout",
     "output_type": "stream",
     "text": [
      "4483\n"
     ]
    }
   ],
   "source": [
    "# Gather all employee titles starting after start of 2002\n",
    "title_df = pd.read_sql(\"\"\"\n",
    "SELECT * FROM titles t INNER JOIN (SELECT emp_no junk FROM dept_emp WHERE from_date>='2002-01-01') de\n",
    "ON t.emp_no = de.junk;\"\"\", conn)\n",
    "title_df = title_df[['id','emp_no','title','from_date','to_date']]\n",
    "\n",
    "# Gather all department managers and add to title dataframe\n",
    "title_mgr_df = pd.read_sql(\"\"\"\n",
    "SELECT * FROM titles AS t INNER JOIN (SELECT emp_no junk FROM dept_manager WHERE from_date<'2002-01-01') dm\n",
    "ON t.emp_no = dm.junk;\"\"\", conn)\n",
    "title_mgr_df = title_mgr_df[['id','emp_no','title','from_date','to_date']]\n",
    "\n",
    "title_df = title_df.append(title_mgr_df, ignore_index=True)\n",
    "# Write employee dataframe to csv\n",
    "title_df.to_csv('app/data/titles_sm.csv', index=False)\n",
    "total_rows += title_df.shape[0]\n",
    "print(total_rows)"
   ]
  },
  {
   "cell_type": "code",
   "execution_count": 6,
   "metadata": {},
   "outputs": [
    {
     "name": "stdout",
     "output_type": "stream",
     "text": [
      "7076\n"
     ]
    }
   ],
   "source": [
    "# Gather all departments of employees starting after start of 2002\n",
    "dept_emp_df = pd.read_sql(\"\"\"\n",
    "SELECT * FROM dept_emp \n",
    "WHERE from_date>='2002-01-01';\"\"\", conn)\n",
    "dept_emp_df = dept_emp_df[['id','emp_no','dept_no','from_date','to_date']]\n",
    "\n",
    "# Gather all department managers and add to dept_emp dataframe\n",
    "dept_emp_mgr_df = pd.read_sql(\"\"\"\n",
    "SELECT * FROM dept_emp AS de INNER JOIN (SELECT emp_no junk FROM dept_manager WHERE from_date<'2002-01-01') dm\n",
    "ON de.emp_no = dm.junk;\"\"\", conn)\n",
    "dept_emp_mgr_df = dept_emp_mgr_df[['id','emp_no','dept_no','from_date','to_date']]\n",
    "\n",
    "dept_emp_df = dept_emp_df.append(dept_emp_mgr_df, ignore_index=True)\n",
    "dept_emp_df.to_csv('app/data/dept_emp_sm.csv', index=False)\n",
    "total_rows += title_df.shape[0]\n",
    "print(total_rows)"
   ]
  },
  {
   "cell_type": "code",
   "execution_count": 7,
   "metadata": {},
   "outputs": [
    {
     "name": "stdout",
     "output_type": "stream",
     "text": [
      "9669\n"
     ]
    }
   ],
   "source": [
    "salaries_df = pd.read_sql(\"\"\"\n",
    "SELECT * FROM salaries s INNER JOIN (SELECT emp_no junk FROM dept_emp WHERE from_date>='2002-01-01') de\n",
    "ON s.emp_no = de.junk;\"\"\", conn)\n",
    "salaries_df = salaries_df[['id','emp_no','salary','from_date','to_date']]\n",
    "\n",
    "# Gather all department managers and add to dept_emp dataframe\n",
    "salaries_mgr_df = pd.read_sql(\"\"\"\n",
    "SELECT * FROM salaries AS s INNER JOIN (SELECT emp_no junk FROM dept_manager WHERE from_date<'2002-01-01') dm\n",
    "ON s.emp_no = dm.junk;\"\"\", conn)\n",
    "salaries_mgr_df = salaries_mgr_df[['id','emp_no','salary','from_date','to_date']]\n",
    "\n",
    "#getcontext().prec = 9\n",
    "#salary_list=[Decimal(num) for num in salary_list]\n",
    "salaries_df.to_csv('app/data/salaries_sm.csv', index=False)\n",
    "total_rows += title_df.shape[0]\n",
    "print(total_rows)"
   ]
  }
 ],
 "metadata": {
  "kernelspec": {
   "display_name": "Python 3",
   "language": "python",
   "name": "python3"
  },
  "language_info": {
   "codemirror_mode": {
    "name": "ipython",
    "version": 3
   },
   "file_extension": ".py",
   "mimetype": "text/x-python",
   "name": "python",
   "nbconvert_exporter": "python",
   "pygments_lexer": "ipython3",
   "version": "3.7.6"
  }
 },
 "nbformat": 4,
 "nbformat_minor": 4
}
