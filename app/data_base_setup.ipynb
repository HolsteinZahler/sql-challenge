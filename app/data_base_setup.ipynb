{
 "cells": [
  {
   "cell_type": "code",
   "execution_count": 1,
   "metadata": {},
   "outputs": [],
   "source": [
    "import databaseconfig as cfg\n",
    "import pandas as pd\n",
    "import matplotlib.pyplot as plt\n",
    "\n",
    "from sqlalchemy import *\n",
    "\n",
    "address='postgresql://'+cfg.postgres['user']+':'+cfg.postgres['pw']+'@'+cfg.postgres['host']+'/'+cfg.postgres['db']\n",
    "engine = create_engine(address)\n",
    "conn = engine.connect()\n",
    "metadata = MetaData()"
   ]
  },
  {
   "cell_type": "markdown",
   "metadata": {},
   "source": [
    "# employees table"
   ]
  },
  {
   "cell_type": "code",
   "execution_count": 2,
   "metadata": {},
   "outputs": [],
   "source": [
    "# Set up employees table\n",
    "\n",
    "# CREATE TABLE employees (\n",
    "# \temp_no INT PRIMARY KEY,\n",
    "# \tbirthdate date NOT NULL,\n",
    "# \tfirst_name VARCHAR(45),\n",
    "# \tlast_name VARCHAR(45),\n",
    "# \tgender VARCHAR(10),\n",
    "# \thire_date date NOT NULL\n",
    "# );\n",
    "employees = Table('employees', metadata,\n",
    "    Column('emp_no', Integer, primary_key=True),\n",
    "    Column('birthdate', DateTime(), nullable=False),\n",
    "    Column('first_name', String(45)),\n",
    "    Column('last_name', String(45)),\n",
    "    Column('gender', String(10)),\n",
    "    Column('hire_date', DateTime(),nullable=False)\n",
    ")"
   ]
  },
  {
   "cell_type": "code",
   "execution_count": 3,
   "metadata": {},
   "outputs": [],
   "source": [
    "metadata.create_all(engine)"
   ]
  },
  {
   "cell_type": "code",
   "execution_count": 4,
   "metadata": {},
   "outputs": [],
   "source": [
    "employee_df = pd.read_csv('data/employees_sm.csv')\n",
    "employee_df.to_sql('employees', con=engine, if_exists='append', index=False)"
   ]
  },
  {
   "cell_type": "markdown",
   "metadata": {},
   "source": [
    "# departments table"
   ]
  },
  {
   "cell_type": "code",
   "execution_count": 5,
   "metadata": {},
   "outputs": [],
   "source": [
    "# Set up departments table\n",
    "\n",
    "# CREATE TABLE departments (\n",
    "# \tdept_no VARCHAR(10) PRIMARY KEY,\n",
    "# \tdept_name VARCHAR(45)\n",
    "# );\n",
    "\n",
    "departments = Table('departments', metadata,\n",
    "    Column('dept_no', String(10), primary_key=True),\n",
    "    Column('dept_name', String(45),nullable=False)\n",
    ")"
   ]
  },
  {
   "cell_type": "code",
   "execution_count": 6,
   "metadata": {},
   "outputs": [],
   "source": [
    "metadata.create_all(engine)"
   ]
  },
  {
   "cell_type": "code",
   "execution_count": 7,
   "metadata": {},
   "outputs": [],
   "source": [
    "departments_df = pd.read_csv('data/departments.csv')\n",
    "departments_df.to_sql('departments', con=engine, if_exists='append', index=False)"
   ]
  },
  {
   "cell_type": "markdown",
   "metadata": {},
   "source": [
    "# department employees table"
   ]
  },
  {
   "cell_type": "code",
   "execution_count": 8,
   "metadata": {},
   "outputs": [],
   "source": [
    "# Set up dept_emp table\n",
    "\n",
    "# CREATE TABLE dept_emp (\n",
    "# \tID SERIAL PRIMARY KEY,\n",
    "# \temp_no INT,\n",
    "# \tFOREIGN KEY (emp_no)\n",
    "#     REFERENCES employees (emp_no),\n",
    "# \tdept_no VARCHAR(10),\n",
    "# \tFOREIGN KEY (dept_no) REFERENCES departments (dept_no),\n",
    "# \tfrom_date date NOT NULL,\n",
    "# \tto_date date NOT NULL\n",
    "# );\n",
    "\n",
    "dept_emp = Table('dept_emp', metadata,\n",
    "    Column('id', Integer, primary_key=True),\n",
    "    Column('emp_no', Integer, ForeignKey(\"employees.emp_no\"), nullable=False),\n",
    "    Column('dept_no', String(10), ForeignKey(\"departments.dept_no\"), nullable=False),          \n",
    "    Column('from_date', DateTime(), nullable=False),\n",
    "    Column('to_date', DateTime(), nullable=False)\n",
    ")"
   ]
  },
  {
   "cell_type": "code",
   "execution_count": 9,
   "metadata": {},
   "outputs": [],
   "source": [
    "metadata.create_all(engine)"
   ]
  },
  {
   "cell_type": "code",
   "execution_count": 10,
   "metadata": {},
   "outputs": [],
   "source": [
    "dept_emp_df = pd.read_csv('data/dept_emp_sm.csv')\n",
    "dept_emp_df.to_sql('dept_emp', con=engine, if_exists='append', index=False)"
   ]
  },
  {
   "cell_type": "markdown",
   "metadata": {},
   "source": [
    "# department manager table"
   ]
  },
  {
   "cell_type": "code",
   "execution_count": 11,
   "metadata": {},
   "outputs": [],
   "source": [
    "# CREATE TABLE dept_manager (\n",
    "# \tID SERIAL PRIMARY KEY,\n",
    "# \tdept_no VARCHAR(10),\n",
    "# \tFOREIGN KEY (dept_no) REFERENCES departments (dept_no),\n",
    "# \temp_no INT,\n",
    "# \tFOREIGN KEY (emp_no)\n",
    "#     REFERENCES employees (emp_no),\n",
    "# \tfrom_date date NOT NULL,\n",
    "# \tto_date date NOT NULL\n",
    "# );\n",
    "\n",
    "dept_manager = Table('dept_manager', metadata,\n",
    "    Column('id', Integer, primary_key=True),\n",
    "    Column('dept_no', String(10), ForeignKey(\"departments.dept_no\"), nullable=False),          \n",
    "    Column('emp_no', Integer, ForeignKey(\"employees.emp_no\"), nullable=False),\n",
    "    Column('from_date', DateTime(), nullable=False),\n",
    "    Column('to_date', DateTime(), nullable=False)\n",
    ")"
   ]
  },
  {
   "cell_type": "code",
   "execution_count": 12,
   "metadata": {},
   "outputs": [],
   "source": [
    "dept_manager_df = pd.read_csv('data/dept_manager.csv')\n",
    "dept_manager_df.to_sql('dept_manager', con=engine, if_exists='append', index=False)"
   ]
  },
  {
   "cell_type": "markdown",
   "metadata": {},
   "source": [
    "# salaries table"
   ]
  },
  {
   "cell_type": "code",
   "execution_count": 14,
   "metadata": {},
   "outputs": [],
   "source": [
    "# CREATE TABLE salaries (\n",
    "# \tID SERIAL PRIMARY KEY,\n",
    "# \temp_no INT,\n",
    "# \tFOREIGN KEY (emp_no)\n",
    "#     REFERENCES employees (emp_no),\n",
    "# \tsalary DECIMAL(11,2),\n",
    "# \tfrom_date date NOT NULL,\n",
    "# \tto_date date NOT NULL\n",
    "# );\n",
    "\n",
    "salaries = Table('salaries', metadata,\n",
    "    Column('id', Integer, primary_key=True),         \n",
    "    Column('emp_no', Integer, ForeignKey(\"employees.emp_no\"), nullable=False),\n",
    "    Column('salary',Float(precision=2, asdecimal=True)),\n",
    "    Column('from_date', DateTime(), nullable=False),\n",
    "    Column('to_date', DateTime(), nullable=False)\n",
    ")"
   ]
  },
  {
   "cell_type": "code",
   "execution_count": 16,
   "metadata": {},
   "outputs": [],
   "source": [
    "salaries_df = pd.read_csv('data/salaries_sm.csv')\n",
    "salaries_df.to_sql('salaries', con=engine, if_exists='append', index=False)"
   ]
  },
  {
   "cell_type": "markdown",
   "metadata": {},
   "source": [
    "# titles table"
   ]
  },
  {
   "cell_type": "code",
   "execution_count": 18,
   "metadata": {},
   "outputs": [],
   "source": [
    "# CREATE TABLE titles (\n",
    "# \tID SERIAL PRIMARY KEY,\n",
    "# \temp_no INT,\n",
    "# \tFOREIGN KEY (emp_no)\n",
    "#     REFERENCES employees (emp_no),\n",
    "# \ttitle VARCHAR(45),\n",
    "# \tfrom_date date NOT NULL,\n",
    "# \tto_date date NOT NULL\n",
    "# );\n",
    "\n",
    "titles = Table('titles', metadata,\n",
    "    Column('id', Integer, primary_key=True),\n",
    "    Column('emp_no', Integer, ForeignKey(\"employees.emp_no\"), nullable=False),\n",
    "    Column('title',String(45)),\n",
    "    Column('from_date', DateTime(), nullable=False),\n",
    "    Column('to_date', DateTime(), nullable=False)\n",
    ")"
   ]
  },
  {
   "cell_type": "code",
   "execution_count": 19,
   "metadata": {},
   "outputs": [],
   "source": [
    "titles_df = pd.read_csv('data/titles_sm.csv')\n",
    "titles_df.to_sql('titles', con=engine, if_exists='append', index=False)"
   ]
  },
  {
   "cell_type": "code",
   "execution_count": null,
   "metadata": {},
   "outputs": [],
   "source": [
    "pd.read_sql(\"\"\"\n",
    "SELECT * FROM employees LIMIT 10\n",
    ";\"\"\", conn)"
   ]
  },
  {
   "cell_type": "code",
   "execution_count": null,
   "metadata": {},
   "outputs": [],
   "source": []
  },
  {
   "cell_type": "code",
   "execution_count": null,
   "metadata": {},
   "outputs": [],
   "source": []
  }
 ],
 "metadata": {
  "kernelspec": {
   "display_name": "Python 3",
   "language": "python",
   "name": "python3"
  },
  "language_info": {
   "codemirror_mode": {
    "name": "ipython",
    "version": 3
   },
   "file_extension": ".py",
   "mimetype": "text/x-python",
   "name": "python",
   "nbconvert_exporter": "python",
   "pygments_lexer": "ipython3",
   "version": "3.7.6"
  }
 },
 "nbformat": 4,
 "nbformat_minor": 4
}
